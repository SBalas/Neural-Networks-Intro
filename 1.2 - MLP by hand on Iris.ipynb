{
 "cells": [
  {
   "cell_type": "markdown",
   "metadata": {},
   "source": [
    "#  MLP on Iris data set\n",
    "\n",
    "Based on Lec 28, CS109 - https://harvard-iacs.github.io/2020-CS109A/lectures/lecture28/notebook-2/\n",
    "\n",
    "**Problem** <br>\n",
    "Classify 3 species of iris based on 4 measurement predictor variables: sepal length & width, and petal length & width in the given dataset.\n",
    "\n",
    "**Approach** \n",
    "- Augment input data with column of ones to create augmented matrix X\n",
    "    1. Create first layer weight matrix with a column of $b, w1, w2...$\n",
    "    2. Affine transform: $h = \\beta X$\n",
    "    3. Activation using ReLU: $p = ReLU(h)$\n",
    "- Repeat 1,2,3 for hidden layer\n",
    "- Use softmax for output layer\n",
    "- Predict y\n",
    "\n"
   ]
  },
  {
   "cell_type": "markdown",
   "metadata": {},
   "source": [
    "<img src=\"./images/MLP_iris.png\" style=\"width: 600px;\" >"
   ]
  },
  {
   "cell_type": "code",
   "execution_count": 106,
   "metadata": {},
   "outputs": [],
   "source": [
    "#Import library\n",
    "import numpy as np\n",
    "import matplotlib.pyplot as plt\n",
    "import tensorflow as tf\n",
    "from sklearn.datasets import load_iris\n",
    "from tensorflow.keras.utils import to_categorical\n",
    "import seaborn as sns\n",
    "sns.set()\n",
    "%matplotlib inline"
   ]
  },
  {
   "cell_type": "code",
   "execution_count": 24,
   "metadata": {},
   "outputs": [
    {
     "name": "stdout",
     "output_type": "stream",
     "text": [
      "X shape: (150, 4)\n",
      "y shape: (150,)\n",
      "Y categorical shape: (150, 3)\n"
     ]
    },
    {
     "data": {
      "text/plain": [
       "array([[1., 0., 0.],\n",
       "       [1., 0., 0.],\n",
       "       [1., 0., 0.]], dtype=float32)"
      ]
     },
     "execution_count": 24,
     "metadata": {},
     "output_type": "execute_result"
    }
   ],
   "source": [
    "# Load iris dataset\n",
    "\n",
    "iris_data = load_iris()\n",
    "X = iris_data.data\n",
    "y = iris_data.target\n",
    "\n",
    "print(\"X shape:\",X.shape)\n",
    "print(\"y shape:\",y.shape)\n",
    "\n",
    "# convert integer into categorial using one hot encode\n",
    "Y = to_categorical(y)\n",
    "print(\"Y categorical shape:\",Y.shape)\n",
    "Y[:3,]\n"
   ]
  },
  {
   "cell_type": "code",
   "execution_count": 38,
   "metadata": {},
   "outputs": [],
   "source": [
    "# load pre-trained weights and biases\n",
    "weights = np.load('data/weights.npy', allow_pickle = True)\n",
    "\n",
    "# weights for 1st layer (hidden)\n",
    "w1 = weights[0]\n",
    "\n",
    "# biases for 1st layer (hidden)\n",
    "b1 = weights[1]\n",
    "\n",
    "# weights for 2nd layer (output)\n",
    "w2 = weights[2]\n",
    "\n",
    "# biases for 2nd layer (hidden)\n",
    "b2 = weights[3]\n"
   ]
  },
  {
   "cell_type": "code",
   "execution_count": 45,
   "metadata": {},
   "outputs": [
    {
     "name": "stdout",
     "output_type": "stream",
     "text": [
      "w1 (4, 3) \n",
      " [[-0.42714605 -0.72814226  0.37730372]\n",
      " [ 0.39002347 -0.73936987  0.7850246 ]\n",
      " [ 0.12336338 -0.7267647  -0.48210236]\n",
      " [ 0.20957732 -0.7505736  -1.3789996 ]] \n",
      "\n",
      "b1 (3,) \n",
      " [0.         0.         0.31270522] \n",
      "\n",
      "w2 (3, 3) \n",
      " [[ 0.7043929   0.13273811 -0.845736  ]\n",
      " [-0.8318007  -0.6977086   0.75894   ]\n",
      " [ 1.1978723   0.14868832 -0.473792  ]] \n",
      "\n",
      "b2 (3,) \n",
      " [-1.2774311   0.45491916  0.73040146]\n"
     ]
    }
   ],
   "source": [
    "# View the weight matrices and compare with diagram\n",
    "\n",
    "print(\"w1\", w1.shape, \"\\n\", w1, \"\\n\")\n",
    "print(\"b1\", b1.shape, \"\\n\", b1, \"\\n\")\n",
    "print(\"w2\", w2.shape, \"\\n\", w2, \"\\n\")\n",
    "print(\"b2\", b2.shape, \"\\n\", b2)"
   ]
  },
  {
   "cell_type": "markdown",
   "metadata": {},
   "source": [
    "<img src=\"./images/MLP_affinematrix.png\" style=\"width: 600px;\" >"
   ]
  },
  {
   "cell_type": "markdown",
   "metadata": {},
   "source": [
    "### Add extra 1s column to X and bias row to W and then do the affine transform"
   ]
  },
  {
   "cell_type": "code",
   "execution_count": 86,
   "metadata": {},
   "outputs": [
    {
     "name": "stdout",
     "output_type": "stream",
     "text": [
      "X_aug \n",
      " [[1.  5.1 3.5 1.4 0.2]\n",
      " [1.  4.9 3.  1.4 0.2]\n",
      " [1.  4.7 3.2 1.3 0.2]\n",
      " [1.  4.6 3.1 1.5 0.2]\n",
      " [1.  5.  3.6 1.4 0.2]] \n",
      "\n",
      "W1 \n",
      " [[ 0.          0.          0.31270522]\n",
      " [-0.42714605 -0.72814226  0.37730372]\n",
      " [ 0.39002347 -0.73936987  0.7850246 ]\n",
      " [ 0.12336338 -0.7267647  -0.48210236]\n",
      " [ 0.20957732 -0.7505736  -1.3789996 ]] \n",
      "\n",
      "Z1 \n",
      " [[-0.59873851 -7.46890534  4.033797  ]\n",
      " [-0.70832103 -6.95359195  3.56582397]\n",
      " [-0.55722347 -6.88316101  3.69557838]\n",
      " [-0.52883853 -6.88176273  3.48292507]\n",
      " [-0.51702155 -7.4700281   4.07456909]]\n"
     ]
    }
   ],
   "source": [
    "# Need to add the bias matrix on top of the weight matrix\n",
    "\n",
    "# Add a column of ones to X to make augmented X\n",
    "col_ones = np.ones((X.shape[0],1))\n",
    "X_aug = np.hstack([col_ones, X])\n",
    "\n",
    "# Add the biases to the weight matrix and make it row 1\n",
    "W1 = np.vstack([b1,w1])\n",
    "\n",
    "# dot product of X_aug and W1 --- note #cols(X_aug) = #rows(W1)\n",
    "Z1 = np.dot(X_aug, W1)\n",
    "\n",
    "# view the modifications\n",
    "print(\"X_aug \\n\", X_aug[:5,:5], \"\\n\")\n",
    "print(\"W1 \\n\", W1, \"\\n\")\n",
    "print(\"Z1 \\n\", Z1[:5,:5])\n"
   ]
  },
  {
   "cell_type": "markdown",
   "metadata": {},
   "source": [
    "### Use ReLU to activate the z1 in first layer"
   ]
  },
  {
   "cell_type": "code",
   "execution_count": 111,
   "metadata": {},
   "outputs": [
    {
     "data": {
      "text/plain": [
       "array([[0.        , 0.        , 4.033797  ],\n",
       "       [0.        , 0.        , 3.56582397],\n",
       "       [0.        , 0.        , 3.69557838],\n",
       "       [0.        , 0.        , 3.48292507],\n",
       "       [0.        , 0.        , 4.07456909]])"
      ]
     },
     "execution_count": 111,
     "metadata": {},
     "output_type": "execute_result"
    }
   ],
   "source": [
    "# Define the activation function ReLU\n",
    "# ReLU = 0 for z < 0 \n",
    "#      = z for z > 0\n",
    "\n",
    "def relu(z):\n",
    "    h = np.maximum(z,0)\n",
    "    return h\n",
    "    \n",
    "H = relu(Z1)\n",
    "H[:5,:5]"
   ]
  },
  {
   "cell_type": "code",
   "execution_count": 171,
   "metadata": {},
   "outputs": [
    {
     "data": {
      "image/png": "[encoded data removed]",
      "text/plain": [
       "<Figure size 432x288 with 1 Axes>"
      ]
     },
     "metadata": {
      "needs_background": "light"
     },
     "output_type": "display_data"
    }
   ],
   "source": [
    "# check the ReLU function\n",
    "x = np.linspace(-10,10,200)\n",
    "plt.plot(x, relu(x), label = 'ReLU')\n",
    "plt.legend();"
   ]
  },
  {
   "cell_type": "markdown",
   "metadata": {},
   "source": [
    "### Second Layer or Output Layer\n",
    "- Add ones to the H matrix (equivalent to X in the previous layer)\n",
    "- Add the biases to the weight matrix\n",
    "- Do the affine transform to get H2\n",
    "- Activate H2 using softmax function\n"
   ]
  },
  {
   "cell_type": "markdown",
   "metadata": {},
   "source": [
    "<img src=\"./images/MLP_layer2.png\" style=\"width: 1000px;\" >"
   ]
  },
  {
   "cell_type": "code",
   "execution_count": 109,
   "metadata": {},
   "outputs": [
    {
     "name": "stdout",
     "output_type": "stream",
     "text": [
      "H_aug \n",
      " [[1.         0.         0.         4.033797  ]\n",
      " [1.         0.         0.         3.56582397]\n",
      " [1.         0.         0.         3.69557838]\n",
      " [1.         0.         0.         3.48292507]\n",
      " [1.         0.         0.         4.07456909]] \n",
      "\n",
      "W2 \n",
      " [[-1.2774311   0.45491916  0.73040146]\n",
      " [ 0.7043929   0.13273811 -0.845736  ]\n",
      " [-0.8318007  -0.6977086   0.75894   ]\n",
      " [ 1.1978723   0.14868832 -0.473792  ]] \n",
      "\n",
      "Z2 \n",
      " [[ 3.55454249  1.05469764 -1.18077924]\n",
      " [ 2.99397056  0.98511552 -0.95905736]\n",
      " [ 3.14939977  1.00440849 -1.02053396]\n",
      " [ 2.89466827  0.97278942 -0.91978053]\n",
      " [ 3.60338224  1.06075998 -1.20009673]]\n"
     ]
    }
   ],
   "source": [
    "# Need to add the bias matrix on top of the weight matrix\n",
    "\n",
    "# Add a column of ones to H to make augmented H\n",
    "col_ones = np.ones((H.shape[0],1))\n",
    "H_aug = np.hstack([col_ones, H])\n",
    "\n",
    "# Add the biases to the weight matrix and make it row 1\n",
    "W2 = np.vstack([b2,w2])\n",
    "\n",
    "# dot product of H_aug and W2 --- note #cols(H_aug) = #rows(W2)\n",
    "Z2 = np.dot(H_aug, W2)\n",
    "\n",
    "# view the modifications\n",
    "print(\"H_aug \\n\", H_aug[:5,:5], \"\\n\")\n",
    "print(\"W2 \\n\", W2, \"\\n\")\n",
    "print(\"Z2 \\n\", Z2[:5,:5])\n"
   ]
  },
  {
   "cell_type": "markdown",
   "metadata": {},
   "source": [
    "<img src=\"./images/MLP_softmax.png\" style=\"width: 800px;\" >"
   ]
  },
  {
   "cell_type": "markdown",
   "metadata": {},
   "source": [
    "### Use Softmax to activate the Z2 in output layer"
   ]
  },
  {
   "cell_type": "code",
   "execution_count": 165,
   "metadata": {},
   "outputs": [
    {
     "data": {
      "text/plain": [
       "array([0, 0, 0, 0, 0, 0, 0, 0, 0, 0, 0, 0, 0, 0, 0, 0, 0, 0, 0, 0, 0, 0,\n",
       "       0, 0, 0, 0, 0, 0, 0, 0, 0, 0, 0, 0, 0, 0, 0, 0, 0, 0, 0, 0, 0, 0,\n",
       "       0, 0, 0, 0, 0, 0, 1, 1, 1, 1, 1, 1, 1, 1, 1, 1, 1, 1, 1, 1, 1, 1,\n",
       "       1, 1, 2, 1, 2, 1, 2, 1, 1, 1, 1, 2, 1, 1, 1, 1, 1, 2, 1, 1, 1, 1,\n",
       "       1, 1, 1, 1, 1, 1, 1, 1, 1, 1, 1, 1, 2, 2, 2, 2, 2, 2, 2, 2, 2, 2,\n",
       "       2, 2, 2, 2, 2, 2, 2, 2, 2, 2, 2, 2, 2, 2, 2, 2, 2, 2, 2, 2, 2, 2,\n",
       "       2, 2, 2, 2, 2, 2, 2, 2, 2, 2, 2, 2, 2, 2, 2, 2, 2, 2], dtype=int64)"
      ]
     },
     "execution_count": 165,
     "metadata": {},
     "output_type": "execute_result"
    }
   ],
   "source": [
    "def softmax(z):\n",
    "    # Inputs: 2D array of logits, rows = observations, cols = classes\n",
    "       \n",
    "    # Returns: y_hat - 2D array of probabilities of class\n",
    "    \n",
    "    #y_hat = np.exp(z)/np.sum(np.exp(z), axis = 1)\n",
    "    y_hat = np.exp(z)/np.sum(np.exp(z), axis = 1, keepdims = True)\n",
    "    return y_hat\n",
    "\n",
    "# gives the probability of each class for all observations\n",
    "y_hat = softmax(Z2)  \n",
    "\n",
    "# Converts the prob into classes 0,1,2 based on max prob\n",
    "y_hat = np.argmax(y_hat, axis = 1)\n",
    "y_hat\n"
   ]
  },
  {
   "cell_type": "code",
   "execution_count": 169,
   "metadata": {},
   "outputs": [
    {
     "name": "stdout",
     "output_type": "stream",
     "text": [
      "Accuracy of model is 0.9666666666666667\n"
     ]
    }
   ],
   "source": [
    "# Check accuracy of model\n",
    "accuracy = sum(y_hat == y)/len(y)\n",
    "\n",
    "print(\"Accuracy of model is\", accuracy)"
   ]
  }
 ],
 "metadata": {
  "kernelspec": {
   "display_name": "Python 3",
   "language": "python",
   "name": "python3"
  },
  "language_info": {
   "codemirror_mode": {
    "name": "ipython",
    "version": 3
   },
   "file_extension": ".py",
   "mimetype": "text/x-python",
   "name": "python",
   "nbconvert_exporter": "python",
   "pygments_lexer": "ipython3",
   "version": "3.8.5"
  }
 },
 "nbformat": 4,
 "nbformat_minor": 4
}
